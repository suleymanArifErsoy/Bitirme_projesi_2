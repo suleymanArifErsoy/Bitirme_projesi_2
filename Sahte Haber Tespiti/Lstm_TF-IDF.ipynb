{
 "cells": [
  {
   "cell_type": "code",
   "execution_count": 4,
   "metadata": {},
   "outputs": [],
   "source": [
    "import pandas as pd\n",
    "from sklearn.model_selection import train_test_split\n",
    "from sklearn.feature_extraction.text import TfidfVectorizer\n",
    "from sklearn.metrics import confusion_matrix, ConfusionMatrixDisplay,accuracy_score\n",
    "from keras._tf_keras.keras.preprocessing.text import Tokenizer\n",
    "from keras._tf_keras.keras.layers import Embedding , LSTM ,Dense,Dropout,Bidirectional,Flatten\n",
    "from keras._tf_keras.keras.models import Sequential\n",
    "from keras._tf_keras.keras.preprocessing.sequence import pad_sequences\n",
    "import matplotlib.pyplot as plt\n"
   ]
  },
  {
   "cell_type": "code",
   "execution_count": 2,
   "metadata": {},
   "outputs": [],
   "source": [
    "real = pd.read_csv(\"islenmis_dogru_haberler.csv\")\n",
    "fake = pd.read_csv(\"islenmis_sahte_haberler.csv\")\n",
    "\n",
    "# Etiket ekleme\n",
    "real['label'] = 1\n",
    "fake['label'] = 0\n",
    "\n",
    "# Veri setlerini birleştirme\n",
    "df = pd.concat([real, fake], ignore_index=True)\n",
    "X = df[\"Haber\"]\n",
    "y = df['label']\n",
    "\n",
    "# Veri setini eğitim ve test olarak ayırma\n",
    "X_train, X_test, y_train, y_test = train_test_split(X, y, test_size=0.25, random_state=1)\n",
    "\n",
    "# TF-IDF vektörlerine dönüştürme\n",
    "tfidf_vectorizer = TfidfVectorizer()\n",
    "X_train_tfidf = tfidf_vectorizer.fit_transform(X_train)\n",
    "X_test_tfidf = tfidf_vectorizer.transform(X_test)"
   ]
  },
  {
   "cell_type": "code",
   "execution_count": 3,
   "metadata": {},
   "outputs": [
    {
     "name": "stdout",
     "output_type": "stream",
     "text": [
      "Epoch 1/5\n"
     ]
    },
    {
     "name": "stderr",
     "output_type": "stream",
     "text": [
      "c:\\Users\\kaannn\\AppData\\Local\\Programs\\Python\\Python311\\Lib\\site-packages\\keras\\src\\layers\\core\\embedding.py:90: UserWarning: Argument `input_length` is deprecated. Just remove it.\n",
      "  warnings.warn(\n"
     ]
    },
    {
     "name": "stdout",
     "output_type": "stream",
     "text": [
      "\u001b[1m105/105\u001b[0m \u001b[32m━━━━━━━━━━━━━━━━━━━━\u001b[0m\u001b[37m\u001b[0m \u001b[1m5s\u001b[0m 32ms/step - accuracy: 0.7193 - loss: 0.5672 - val_accuracy: 0.9155 - val_loss: 0.2641\n",
      "Epoch 2/5\n",
      "\u001b[1m105/105\u001b[0m \u001b[32m━━━━━━━━━━━━━━━━━━━━\u001b[0m\u001b[37m\u001b[0m \u001b[1m3s\u001b[0m 29ms/step - accuracy: 0.9344 - loss: 0.2345 - val_accuracy: 0.9191 - val_loss: 0.2345\n",
      "Epoch 3/5\n",
      "\u001b[1m105/105\u001b[0m \u001b[32m━━━━━━━━━━━━━━━━━━━━\u001b[0m\u001b[37m\u001b[0m \u001b[1m3s\u001b[0m 28ms/step - accuracy: 0.9621 - loss: 0.1363 - val_accuracy: 0.9407 - val_loss: 0.1787\n",
      "Epoch 4/5\n",
      "\u001b[1m105/105\u001b[0m \u001b[32m━━━━━━━━━━━━━━━━━━━━\u001b[0m\u001b[37m\u001b[0m \u001b[1m3s\u001b[0m 28ms/step - accuracy: 0.9614 - loss: 0.1453 - val_accuracy: 0.9128 - val_loss: 0.2788\n",
      "Epoch 5/5\n",
      "\u001b[1m105/105\u001b[0m \u001b[32m━━━━━━━━━━━━━━━━━━━━\u001b[0m\u001b[37m\u001b[0m \u001b[1m3s\u001b[0m 28ms/step - accuracy: 0.9652 - loss: 0.1089 - val_accuracy: 0.9371 - val_loss: 0.2502\n"
     ]
    },
    {
     "data": {
      "text/plain": [
       "<keras.src.callbacks.history.History at 0x285963c5510>"
      ]
     },
     "execution_count": 3,
     "metadata": {},
     "output_type": "execute_result"
    }
   ],
   "source": [
    "# LSTM modeli oluşturma\n",
    "max_features = 10000  # Kelime dağarcığının büyüklüğü\n",
    "tokenizer = Tokenizer(num_words=max_features)\n",
    "tokenizer.fit_on_texts(X_train)\n",
    "X_train_lstm = tokenizer.texts_to_sequences(X_train)\n",
    "X_test_lstm = tokenizer.texts_to_sequences(X_test)\n",
    "\n",
    "maxlen = 100  # Metin uzunluğunu sabitleme\n",
    "X_train_lstm = pad_sequences(X_train_lstm, padding='post', maxlen=maxlen)\n",
    "X_test_lstm = pad_sequences(X_test_lstm, padding='post', maxlen=maxlen)\n",
    "\n",
    "model = Sequential()\n",
    "model.add(Embedding(input_dim=max_features, output_dim=128, input_length=maxlen))\n",
    "model.add(LSTM(64, dropout=0.2, recurrent_dropout=0.2))\n",
    "model.add(Dense(1, activation='sigmoid'))\n",
    "\n",
    "model.compile(loss='binary_crossentropy', optimizer='adam', metrics=['accuracy'])\n",
    "\n",
    "# Modeli eğitme\n",
    "model.fit(X_train_lstm, y_train, batch_size=32, epochs=5, validation_data=(X_test_lstm, y_test))"
   ]
  },
  {
   "cell_type": "code",
   "execution_count": 5,
   "metadata": {},
   "outputs": [
    {
     "name": "stdout",
     "output_type": "stream",
     "text": [
      "\u001b[1m35/35\u001b[0m \u001b[32m━━━━━━━━━━━━━━━━━━━━\u001b[0m\u001b[37m\u001b[0m \u001b[1m1s\u001b[0m 11ms/step\n",
      "Test Verisi doğruluk değeri: 93.7\n"
     ]
    },
    {
     "data": {
      "image/png": "[encoded data removed]",
      "text/plain": [
       "<Figure size 640x480 with 2 Axes>"
      ]
     },
     "metadata": {},
     "output_type": "display_data"
    }
   ],
   "source": [
    "# Test verisi üzerinde tahmin yapma\n",
    "y_pred = model.predict(X_test_lstm)\n",
    "y_pred = (y_pred > 0.5).astype(int)\n",
    "\n",
    "# Doğruluk değerini hesaplama ve yazdırma\n",
    "accuracy = accuracy_score(y_test, y_pred)\n",
    "print('Test Verisi doğruluk değeri: %.1f'%(accuracy*100))\n",
    "\n",
    "# Confusion matrix oluşturma ve görselleştirme\n",
    "cm = confusion_matrix(y_test, y_pred)\n",
    "disp = ConfusionMatrixDisplay(confusion_matrix=cm, display_labels=['Fake', 'Real'])\n",
    "disp.plot()\n",
    "plt.show()"
   ]
  }
 ],
 "metadata": {
  "kernelspec": {
   "display_name": "Python 3",
   "language": "python",
   "name": "python3"
  },
  "language_info": {
   "codemirror_mode": {
    "name": "ipython",
    "version": 3
   },
   "file_extension": ".py",
   "mimetype": "text/x-python",
   "name": "python",
   "nbconvert_exporter": "python",
   "pygments_lexer": "ipython3",
   "version": "3.11.5"
  }
 },
 "nbformat": 4,
 "nbformat_minor": 2
}
